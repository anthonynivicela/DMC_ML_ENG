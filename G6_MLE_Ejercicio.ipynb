{
 "cells": [
  {
   "cell_type": "code",
   "execution_count": null,
   "id": "2cbf95de",
   "metadata": {
    "vscode": {
     "languageId": "plaintext"
    }
   },
   "outputs": [],
   "source": [
    "#Pycaret:\n",
    "#from pycaret.regression import *\n",
    "#Pipeline de pycaret:\n",
    "#1. Setup() : Definir el dataset y parametros\n",
    "    #exp = setup(data=df, target='precio', session_id=12,normalize=True)\n",
    "#2. Compare_models(): Compara multiples modelos y los rankea\n",
    "    #mejor_modelo = compare_models()\n",
    "#3. Create model() : Crea un modelo especifico\n",
    "    #lr = create_model('lr') \n",
    "#4. Tune_model() :Ajuste automatico de hiperparametros\n",
    "    #tuned_lr = tune_model(lr)\n",
    "#5. plot_model(): visualiza (graficamente) el desempeño del modelo\n",
    "    #plot_model(tuned_lr,plot='residuals')\n",
    "    #plot_model(tuned_lr,plot='feature')\n",
    "#6. evaluate_model(): UI de evaluación del modelo\n",
    "    #evaluate_model(tuned_lr)\n",
    "#7. predict_model(): Predicciones sobre nuevos datos en el DF\n",
    "    #predicciones = predict_model(tuned_lr,data=nuevo_df)\n",
    "#8. save_model()/load_model(): Guardar y cargar modelo.\n",
    "    #save_model(tunel_lr,'modelo_final')\n",
    "#9 otropaso    "
   ]
  }
 ],
 "metadata": {
  "language_info": {
   "name": "python"
  }
 },
 "nbformat": 4,
 "nbformat_minor": 5
}
